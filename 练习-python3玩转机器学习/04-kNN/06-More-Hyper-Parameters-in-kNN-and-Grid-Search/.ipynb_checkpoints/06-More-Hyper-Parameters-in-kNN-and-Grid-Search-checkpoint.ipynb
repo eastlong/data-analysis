{
 "cells": [
  {
   "cell_type": "markdown",
   "id": "984e904c-7ffb-4f94-8665-b76d913eec6b",
   "metadata": {},
   "source": [
    "## 06 网格搜索和更多kNN中的超参数"
   ]
  },
  {
   "cell_type": "code",
   "execution_count": 1,
   "id": "c8a991db-cc84-46be-a273-e5a2e59b6931",
   "metadata": {},
   "outputs": [],
   "source": [
    "import numpy as np\n",
    "from sklearn import datasets"
   ]
  },
  {
   "cell_type": "code",
   "execution_count": null,
   "id": "743771e5-9f8b-473c-bb45-6ae3aef11f74",
   "metadata": {},
   "outputs": [],
   "source": []
  }
 ],
 "metadata": {
  "kernelspec": {
   "display_name": "py36",
   "language": "python",
   "name": "python3"
  },
  "language_info": {
   "codemirror_mode": {
    "name": "ipython",
    "version": 3
   },
   "file_extension": ".py",
   "mimetype": "text/x-python",
   "name": "python",
   "nbconvert_exporter": "python",
   "pygments_lexer": "ipython3",
   "version": "3.6.13"
  }
 },
 "nbformat": 4,
 "nbformat_minor": 5
}
