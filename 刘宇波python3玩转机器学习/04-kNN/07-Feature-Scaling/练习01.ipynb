{
 "cells": [
  {
   "cell_type": "markdown",
   "id": "c10251f5-30cd-4731-ac5d-37979e0998c9",
   "metadata": {},
   "source": [
    "## 07 数据归一化处理"
   ]
  },
  {
   "cell_type": "code",
   "execution_count": 1,
   "id": "0b000c05-6c86-4574-af16-d641dc051220",
   "metadata": {},
   "outputs": [],
   "source": [
    "import numpy as np\n",
    "import matplotlib.pyplot as plt"
   ]
  },
  {
   "cell_type": "markdown",
   "id": "0abc0e83-54fe-45ff-9487-0741070a7521",
   "metadata": {},
   "source": [
    "### 最值归一化 Normalization"
   ]
  },
  {
   "cell_type": "code",
   "execution_count": 2,
   "id": "e9fd71cf-1b01-4470-98bf-892cb5ed87fc",
   "metadata": {},
   "outputs": [
    {
     "data": {
      "text/plain": [
       "array([57, 55,  3, 85, 36, 15, 84, 55, 93, 94, 84, 35, 81, 42, 86, 58, 36,\n",
       "       62, 23, 71, 86, 11, 31, 13, 61, 59, 31, 71, 26, 90,  8, 74, 64, 49,\n",
       "       84, 64, 41, 70, 76, 33,  4, 61, 89, 58, 44, 43, 39, 99, 55, 51, 76,\n",
       "       34, 43, 91, 21, 44, 30, 92, 70, 40,  5, 24, 42, 38, 43,  4, 98, 21,\n",
       "       36, 87, 73,  1, 65, 90, 82,  5, 18,  3, 58, 24, 62, 22, 82, 86, 33,\n",
       "       28, 39,  5, 14, 37, 84, 33, 76, 52, 33, 43, 32, 15, 31, 50])"
      ]
     },
     "execution_count": 2,
     "metadata": {},
     "output_type": "execute_result"
    }
   ],
   "source": [
    "x = np.random.randint(0, 100, 100)\n",
    "x"
   ]
  },
  {
   "cell_type": "code",
   "execution_count": 3,
   "id": "8fec1b7c-2ef7-40f1-9e63-6bd1689d9ba7",
   "metadata": {},
   "outputs": [
    {
     "data": {
      "text/plain": [
       "array([0.57142857, 0.55102041, 0.02040816, 0.85714286, 0.35714286,\n",
       "       0.14285714, 0.84693878, 0.55102041, 0.93877551, 0.94897959,\n",
       "       0.84693878, 0.34693878, 0.81632653, 0.41836735, 0.86734694,\n",
       "       0.58163265, 0.35714286, 0.62244898, 0.2244898 , 0.71428571,\n",
       "       0.86734694, 0.10204082, 0.30612245, 0.12244898, 0.6122449 ,\n",
       "       0.59183673, 0.30612245, 0.71428571, 0.25510204, 0.90816327,\n",
       "       0.07142857, 0.74489796, 0.64285714, 0.48979592, 0.84693878,\n",
       "       0.64285714, 0.40816327, 0.70408163, 0.76530612, 0.32653061,\n",
       "       0.03061224, 0.6122449 , 0.89795918, 0.58163265, 0.43877551,\n",
       "       0.42857143, 0.3877551 , 1.        , 0.55102041, 0.51020408,\n",
       "       0.76530612, 0.33673469, 0.42857143, 0.91836735, 0.20408163,\n",
       "       0.43877551, 0.29591837, 0.92857143, 0.70408163, 0.39795918,\n",
       "       0.04081633, 0.23469388, 0.41836735, 0.37755102, 0.42857143,\n",
       "       0.03061224, 0.98979592, 0.20408163, 0.35714286, 0.87755102,\n",
       "       0.73469388, 0.        , 0.65306122, 0.90816327, 0.82653061,\n",
       "       0.04081633, 0.17346939, 0.02040816, 0.58163265, 0.23469388,\n",
       "       0.62244898, 0.21428571, 0.82653061, 0.86734694, 0.32653061,\n",
       "       0.2755102 , 0.3877551 , 0.04081633, 0.13265306, 0.36734694,\n",
       "       0.84693878, 0.32653061, 0.76530612, 0.52040816, 0.32653061,\n",
       "       0.42857143, 0.31632653, 0.14285714, 0.30612245, 0.5       ])"
      ]
     },
     "execution_count": 3,
     "metadata": {},
     "output_type": "execute_result"
    }
   ],
   "source": [
    "(x - np.min(x)) / (np.max(x) - np.min(x))"
   ]
  },
  {
   "cell_type": "code",
   "execution_count": 4,
   "id": "90184ca3-932e-4619-8c66-1f6cee269f7d",
   "metadata": {},
   "outputs": [],
   "source": [
    "# 对矩阵进行归一化\n",
    "X = np.random.randint(0, 100, (50, 2))"
   ]
  },
  {
   "cell_type": "code",
   "execution_count": 5,
   "id": "d0ba5469-faf7-4ec4-82ad-2dd93ae4fd30",
   "metadata": {},
   "outputs": [
    {
     "data": {
      "text/plain": [
       "array([[57., 46.],\n",
       "       [65., 64.],\n",
       "       [49., 64.],\n",
       "       [57.,  6.],\n",
       "       [33., 55.],\n",
       "       [29.,  5.],\n",
       "       [20., 46.],\n",
       "       [ 0.,  1.],\n",
       "       [43., 93.],\n",
       "       [ 9., 11.],\n",
       "       [37.,  5.],\n",
       "       [92., 69.],\n",
       "       [73., 40.],\n",
       "       [27., 25.],\n",
       "       [27., 55.],\n",
       "       [12., 18.],\n",
       "       [56., 49.],\n",
       "       [66., 60.],\n",
       "       [91., 23.],\n",
       "       [38., 54.],\n",
       "       [44., 83.],\n",
       "       [73., 49.],\n",
       "       [ 5., 45.],\n",
       "       [63., 97.],\n",
       "       [74., 90.],\n",
       "       [92., 18.],\n",
       "       [83., 36.],\n",
       "       [27., 55.],\n",
       "       [91., 13.],\n",
       "       [74., 78.],\n",
       "       [25., 55.],\n",
       "       [53.,  7.],\n",
       "       [50., 91.],\n",
       "       [28., 23.],\n",
       "       [37., 55.],\n",
       "       [81., 57.],\n",
       "       [51.,  9.],\n",
       "       [17., 99.],\n",
       "       [46., 10.],\n",
       "       [69., 43.],\n",
       "       [75., 56.],\n",
       "       [94., 61.],\n",
       "       [30., 28.],\n",
       "       [78., 49.],\n",
       "       [77., 57.],\n",
       "       [86., 65.],\n",
       "       [82., 65.],\n",
       "       [33., 66.],\n",
       "       [79., 25.],\n",
       "       [29., 75.]])"
      ]
     },
     "execution_count": 5,
     "metadata": {},
     "output_type": "execute_result"
    }
   ],
   "source": [
    "X = np.array(X, dtype=float)\n",
    "X"
   ]
  },
  {
   "cell_type": "code",
   "execution_count": 6,
   "id": "7c17c498-bb0e-4ddc-93ce-35b529db20e6",
   "metadata": {},
   "outputs": [],
   "source": [
    "# 第1列\n",
    "X[:,0] = (X[:,0] - np.min(X[:,0])) / (np.max(X[:,0]) - np.min(X[:,0]))\n",
    "# 第2列\n",
    "X[:,1] = (X[:,1] - np.min(X[:,1])) / (np.max(X[:,1]) - np.min(X[:,1]))"
   ]
  },
  {
   "cell_type": "code",
   "execution_count": 7,
   "id": "a99ecebc-6bbf-46e8-be84-c56a67c3611a",
   "metadata": {},
   "outputs": [
    {
     "data": {
      "text/plain": [
       "array([[0.60638298, 0.45918367],\n",
       "       [0.69148936, 0.64285714],\n",
       "       [0.5212766 , 0.64285714],\n",
       "       [0.60638298, 0.05102041],\n",
       "       [0.35106383, 0.55102041],\n",
       "       [0.30851064, 0.04081633],\n",
       "       [0.21276596, 0.45918367],\n",
       "       [0.        , 0.        ],\n",
       "       [0.45744681, 0.93877551],\n",
       "       [0.09574468, 0.10204082]])"
      ]
     },
     "execution_count": 7,
     "metadata": {},
     "output_type": "execute_result"
    }
   ],
   "source": [
    "X[:10,:]"
   ]
  },
  {
   "cell_type": "code",
   "execution_count": 8,
   "id": "e88e5445-5f6f-4ae9-bec6-664598b1352d",
   "metadata": {},
   "outputs": [
    {
     "data": {
      "image/png": "[encoded data removed]",
      "text/plain": [
       "<Figure size 640x480 with 1 Axes>"
      ]
     },
     "metadata": {},
     "output_type": "display_data"
    }
   ],
   "source": [
    "plt.scatter(X[:,0], X[:,1])\n",
    "plt.show()"
   ]
  },
  {
   "cell_type": "code",
   "execution_count": 9,
   "id": "2e0f200e-e3ea-4e28-b9cb-d01c064b7f41",
   "metadata": {},
   "outputs": [
    {
     "data": {
      "text/plain": [
       "0.5589361702127659"
      ]
     },
     "execution_count": 9,
     "metadata": {},
     "output_type": "execute_result"
    }
   ],
   "source": [
    "np.mean(X[:,0]) # 均值"
   ]
  },
  {
   "cell_type": "code",
   "execution_count": 10,
   "id": "0153ac53-06bb-4f7a-bf83-be3d6c32a183",
   "metadata": {},
   "outputs": [
    {
     "data": {
      "text/plain": [
       "0.2773982629504249"
      ]
     },
     "execution_count": 10,
     "metadata": {},
     "output_type": "execute_result"
    }
   ],
   "source": [
    "np.std(X[:,0]) # 方差"
   ]
  },
  {
   "cell_type": "code",
   "execution_count": 11,
   "id": "184b43c0-98d7-430a-becc-e6481a6f236c",
   "metadata": {},
   "outputs": [
    {
     "data": {
      "text/plain": [
       "0.5589361702127659"
      ]
     },
     "execution_count": 11,
     "metadata": {},
     "output_type": "execute_result"
    }
   ],
   "source": [
    "np.mean(X[:,0])"
   ]
  },
  {
   "cell_type": "code",
   "execution_count": 12,
   "id": "dc8aab0c-5669-4433-a6f1-d2e46edcd471",
   "metadata": {},
   "outputs": [
    {
     "data": {
      "text/plain": [
       "0.4691836734693878"
      ]
     },
     "execution_count": 12,
     "metadata": {},
     "output_type": "execute_result"
    }
   ],
   "source": [
    "np.mean(X[:,1])"
   ]
  },
  {
   "cell_type": "code",
   "execution_count": 13,
   "id": "81e21963-8b8f-4e17-b20c-d18f30fdd3fd",
   "metadata": {},
   "outputs": [
    {
     "data": {
      "text/plain": [
       "0.27300058812427785"
      ]
     },
     "execution_count": 13,
     "metadata": {},
     "output_type": "execute_result"
    }
   ],
   "source": [
    "np.std(X[:,1])"
   ]
  },
  {
   "cell_type": "markdown",
   "id": "c50c5c71-3de8-44f6-a09a-9659501f8125",
   "metadata": {},
   "source": [
    "### 均值方差归一化 Standardization"
   ]
  },
  {
   "cell_type": "code",
   "execution_count": null,
   "id": "17b35c58-716a-4bdf-aac0-77e4749347ca",
   "metadata": {},
   "outputs": [],
   "source": [
    "X2 = np.random.randint(0, 100, (50,2))\n"
   ]
  }
 ],
 "metadata": {
  "kernelspec": {
   "display_name": "Python 3 (ipykernel)",
   "language": "python",
   "name": "python3"
  },
  "language_info": {
   "codemirror_mode": {
    "name": "ipython",
    "version": 3
   },
   "file_extension": ".py",
   "mimetype": "text/x-python",
   "name": "python",
   "nbconvert_exporter": "python",
   "pygments_lexer": "ipython3",
   "version": "3.10.9"
  }
 },
 "nbformat": 4,
 "nbformat_minor": 5
}
